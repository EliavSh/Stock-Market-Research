{
 "cells": [
  {
   "cell_type": "code",
   "execution_count": null,
   "metadata": {
    "collapsed": true
   },
   "outputs": [],
   "source": [
    "import tensorflow as tf\n",
    "from src import *\n",
    "from multiprocessing import Process"
   ]
  },
  {
   "cell_type": "code",
   "execution_count": null,
   "outputs": [],
   "source": [
    "def conf_to_string(c: MainConfig):\n",
    "    return \"prediction_interval_%s\" % c.prediction_interval"
   ],
   "metadata": {
    "collapsed": false,
    "pycharm": {
     "name": "#%%\n"
    }
   }
  },
  {
   "cell_type": "code",
   "execution_count": null,
   "outputs": [],
   "source": [
    "def main(conf):\n",
    "    # filter stocks by: keep only the stocks with the maximum trading days in their record (our database)\n",
    "    stocks_data = FilterEnum.IntersectionFilter.get(conf, FilterEnum.SNP500Filter.get(conf),\n",
    "                                                    FilterEnum.MaxTradingDays.get(conf),\n",
    "                                                    FilterEnum.RelationFilter.get(conf)).get_filtered_data()\n",
    "\n",
    "    # interpolate data: fill missing times by next values, except the volume - fill with zeros\n",
    "    InterpolationEnum.BasicInterpolation.get().interpolate(stocks_data=stocks_data)\n",
    "\n",
    "    # normalize data\n",
    "    NormalizerEnum.BasicNormalizer.get(conf).normalize(stocks_data)\n",
    "\n",
    "    # TODO - add indicators (as features) of pre/after/start/end of the market\n",
    "\n",
    "    # split data to train and test\n",
    "    train_set, test_set = TimeSeriesSplit(stocks_data, conf).train_test_split()\n",
    "\n",
    "    # process\n",
    "    sess = tf.Session()\n",
    "\n",
    "    log_dir = \"tensorboard/\" + conf_to_string(conf)\n",
    "    writer = tf.compat.v1.summary.FileWriter(log_dir)\n",
    "\n",
    "    my_executor = BasicExecutor(sess, writer, ModelEnum.HATS, train_set, list(stocks_data.keys()), conf)\n",
    "    # writer.add_graph(sess.graph)\n",
    "\n",
    "    my_executor.train()  # TODO - fix the error here\n",
    "\n",
    "    print(\"king\")"
   ],
   "metadata": {
    "collapsed": false,
    "pycharm": {
     "name": "#%%\n"
    }
   }
  },
  {
   "cell_type": "code",
   "execution_count": null,
   "outputs": [],
   "source": [
    "prediction_intervals = [3, 6, 9, 12]\n",
    "jobs = []\n",
    "for prediction_interval in prediction_intervals:\n",
    "    config = MainConfig()\n",
    "    config.prediction_interval = prediction_interval\n",
    "    p = Process(target=main, args=(config,))\n",
    "    jobs.append(p)\n",
    "    p.start()\n",
    "for j in jobs:\n",
    "    j.join()"
   ],
   "metadata": {
    "collapsed": false,
    "pycharm": {
     "name": "#%%\n"
    }
   }
  }
 ],
 "metadata": {
  "kernelspec": {
   "display_name": "Python 3",
   "language": "python",
   "name": "python3"
  },
  "language_info": {
   "codemirror_mode": {
    "name": "ipython",
    "version": 2
   },
   "file_extension": ".py",
   "mimetype": "text/x-python",
   "name": "python",
   "nbconvert_exporter": "python",
   "pygments_lexer": "ipython2",
   "version": "2.7.6"
  }
 },
 "nbformat": 4,
 "nbformat_minor": 0
}